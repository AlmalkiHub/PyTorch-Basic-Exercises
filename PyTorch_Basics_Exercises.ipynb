{
  "cells": [
    {
      "cell_type": "markdown",
      "source": [
        "#### `Ali Almalki`\n",
        "Let's cook up some PyTorch code👨🏻‍🍳"
      ],
      "metadata": {
        "id": "HQdx77SIMNqK"
      }
    },
    {
      "cell_type": "markdown",
      "metadata": {
        "id": "jC_4yz9oL3cD"
      },
      "source": [
        "### 1. Perform standard imports\n",
        "Import torch and NumPy"
      ]
    },
    {
      "cell_type": "code",
      "execution_count": 16,
      "metadata": {
        "id": "war-wsjgL3cE"
      },
      "outputs": [],
      "source": [
        "# CODE HERE\n",
        "\n",
        "import torch \n",
        "import numpy as np"
      ]
    },
    {
      "cell_type": "markdown",
      "metadata": {
        "id": "oXC78viVL3cF"
      },
      "source": [
        "### 2. Set the random seed for NumPy and PyTorch both to \"42\"\n",
        "This allows us to share the same \"random\" results."
      ]
    },
    {
      "cell_type": "code",
      "execution_count": 17,
      "metadata": {
        "colab": {
          "base_uri": "https://localhost:8080/"
        },
        "id": "FShBs6nvL3cF",
        "outputId": "9274badd-ad86-44ae-9cb1-74f65c96e920"
      },
      "outputs": [
        {
          "output_type": "execute_result",
          "data": {
            "text/plain": [
              "tensor([[0.6075, 0.1705],\n",
              "        [0.0651, 0.9489],\n",
              "        [0.9656, 0.8084]], dtype=torch.float64)"
            ]
          },
          "metadata": {},
          "execution_count": 17
        }
      ],
      "source": [
        "# CODE HERE\n",
        "\n",
        "# np.random.seed(42)\n",
        "# np.random.rand(2,3)\n",
        "\n",
        "torch.manual_seed(42)\n",
        "x = np.random.rand(3,2)\n",
        "torch.tensor(x)\n"
      ]
    },
    {
      "cell_type": "markdown",
      "metadata": {
        "id": "_yc8d8iHL3cG"
      },
      "source": [
        "### 3. Create a NumPy array called \"arr\" that contains 6 random integers between 0 (inclusive) and 5 (exclusive)"
      ]
    },
    {
      "cell_type": "code",
      "execution_count": 18,
      "metadata": {
        "colab": {
          "base_uri": "https://localhost:8080/"
        },
        "id": "6_D5geFpL3cH",
        "outputId": "c790491a-9d37-42a8-cf7a-71856a82ca0d"
      },
      "outputs": [
        {
          "output_type": "execute_result",
          "data": {
            "text/plain": [
              "array([0, 1, 4, 1, 3, 3])"
            ]
          },
          "metadata": {},
          "execution_count": 18
        }
      ],
      "source": [
        "# CODE HERE\n",
        "arr = np.random.randint(0,5,6)\n",
        "arr\n"
      ]
    },
    {
      "cell_type": "code",
      "execution_count": null,
      "metadata": {
        "id": "GTKIXQ1AL3cH",
        "outputId": "38745a7e-fd74-4e68-f578-562e567c92ea"
      },
      "outputs": [
        {
          "name": "stdout",
          "output_type": "stream",
          "text": [
            "[3 4 2 4 4 1]\n"
          ]
        }
      ],
      "source": [
        "# DON'T WRITE HERE"
      ]
    },
    {
      "cell_type": "markdown",
      "metadata": {
        "id": "HgRCTeoEL3cJ"
      },
      "source": [
        "### 4. Create a tensor \"x\" from the array above"
      ]
    },
    {
      "cell_type": "code",
      "execution_count": 20,
      "metadata": {
        "id": "ZoCzHddRL3cJ",
        "colab": {
          "base_uri": "https://localhost:8080/"
        },
        "outputId": "2fa37a5a-7360-4ead-a234-7b5cbfe6f24f"
      },
      "outputs": [
        {
          "output_type": "execute_result",
          "data": {
            "text/plain": [
              "tensor([0, 1, 4, 1, 3, 3])"
            ]
          },
          "metadata": {},
          "execution_count": 20
        }
      ],
      "source": [
        "# CODE HERE\n",
        "\n",
        "x = torch.from_numpy(arr)\n",
        "x"
      ]
    },
    {
      "cell_type": "code",
      "execution_count": null,
      "metadata": {
        "id": "-PQXACn8L3cK",
        "outputId": "2402281e-4baf-4f56-edd3-f4dcaad3f895"
      },
      "outputs": [
        {
          "name": "stdout",
          "output_type": "stream",
          "text": [
            "tensor([3, 4, 2, 4, 4, 1], dtype=torch.int32)\n"
          ]
        }
      ],
      "source": [
        "# DON'T WRITE HERE"
      ]
    },
    {
      "cell_type": "markdown",
      "metadata": {
        "id": "r-m1z4swL3cK"
      },
      "source": [
        "### 5. Change the dtype of x from 'int32' to 'int64'\n",
        "Note: 'int64' is also called 'LongTensor'"
      ]
    },
    {
      "cell_type": "code",
      "execution_count": 25,
      "metadata": {
        "id": "yFcxzA5SL3cL",
        "colab": {
          "base_uri": "https://localhost:8080/"
        },
        "outputId": "adbf9783-a837-4f9e-bcb1-99d7756e3987"
      },
      "outputs": [
        {
          "output_type": "execute_result",
          "data": {
            "text/plain": [
              "torch.Tensor"
            ]
          },
          "metadata": {},
          "execution_count": 25
        }
      ],
      "source": [
        "# CODE HERE\n",
        "\n",
        "x.type('torch.LongTensor')\n",
        "type(x)\n"
      ]
    },
    {
      "cell_type": "code",
      "execution_count": null,
      "metadata": {
        "id": "vDooTZDaL3cL",
        "outputId": "bd553d20-4dc2-4536-b7e4-4f3c0fa49dbe"
      },
      "outputs": [
        {
          "name": "stdout",
          "output_type": "stream",
          "text": [
            "torch.LongTensor\n"
          ]
        }
      ],
      "source": [
        "# DON'T WRITE HERE"
      ]
    },
    {
      "cell_type": "markdown",
      "metadata": {
        "id": "cIGKUigjL3cL"
      },
      "source": [
        "### 6. Reshape x into a 3x2 tensor\n",
        "There are several ways to do this."
      ]
    },
    {
      "cell_type": "code",
      "execution_count": 30,
      "metadata": {
        "id": "301M155sL3cM",
        "colab": {
          "base_uri": "https://localhost:8080/"
        },
        "outputId": "032efe78-37a9-4d84-be62-bb6bf5d86000"
      },
      "outputs": [
        {
          "output_type": "execute_result",
          "data": {
            "text/plain": [
              "tensor([[0, 1],\n",
              "        [4, 1],\n",
              "        [3, 3]])"
            ]
          },
          "metadata": {},
          "execution_count": 30
        }
      ],
      "source": [
        "# CODE HERE\n",
        "\n",
        "# x.reshape(3,2)\n",
        "# torch.reshape(x, (3,2))\n",
        "# x = x.reshape(3,2)\n",
        "# x.resize_(3,2)\n",
        "x = x.view(3,2)\n",
        "x"
      ]
    },
    {
      "cell_type": "code",
      "execution_count": null,
      "metadata": {
        "id": "yv0hzS__L3cM",
        "outputId": "00edb893-60b8-48d1-e216-9ceb27fed86f"
      },
      "outputs": [
        {
          "name": "stdout",
          "output_type": "stream",
          "text": [
            "tensor([[3, 4],\n",
            "        [2, 4],\n",
            "        [4, 1]])\n"
          ]
        }
      ],
      "source": [
        "# DON'T WRITE HERE"
      ]
    },
    {
      "cell_type": "markdown",
      "metadata": {
        "id": "3Wy2C651L3cN"
      },
      "source": [
        "### 7. Return the right-hand column of tensor x"
      ]
    },
    {
      "cell_type": "code",
      "execution_count": 31,
      "metadata": {
        "id": "o4rV2kIOL3cN",
        "colab": {
          "base_uri": "https://localhost:8080/"
        },
        "outputId": "c005f8f5-a764-4fe9-eea1-36cd7d53cd69"
      },
      "outputs": [
        {
          "output_type": "execute_result",
          "data": {
            "text/plain": [
              "tensor([[1],\n",
              "        [1],\n",
              "        [3]])"
            ]
          },
          "metadata": {},
          "execution_count": 31
        }
      ],
      "source": [
        "# CODE HERE\n",
        "x[:, 1:]\n"
      ]
    },
    {
      "cell_type": "code",
      "execution_count": null,
      "metadata": {
        "id": "PFuDYPWhL3cN",
        "outputId": "cce51736-eb42-4519-a8aa-dad41b9b119d"
      },
      "outputs": [
        {
          "name": "stdout",
          "output_type": "stream",
          "text": [
            "tensor([[4],\n",
            "        [4],\n",
            "        [1]])\n"
          ]
        }
      ],
      "source": [
        "# DON'T WRITE HERE"
      ]
    },
    {
      "cell_type": "markdown",
      "metadata": {
        "id": "gyUNIB07L3cO"
      },
      "source": [
        "### 8. Without changing x, return a tensor of square values of x\n",
        "There are several ways to do this."
      ]
    },
    {
      "cell_type": "code",
      "execution_count": 33,
      "metadata": {
        "id": "mXbliuOcL3cO",
        "colab": {
          "base_uri": "https://localhost:8080/"
        },
        "outputId": "66a20a25-abd7-424e-a70a-d3e582a4a64d"
      },
      "outputs": [
        {
          "output_type": "stream",
          "name": "stdout",
          "text": [
            "tensor([[ 0,  1],\n",
            "        [16,  1],\n",
            "        [ 9,  9]])\n"
          ]
        }
      ],
      "source": [
        "# CODE HERE\n",
        "\n",
        "# torch.square(x)\n",
        "# print(x**2)\n",
        "# print(x.mul(x))\n",
        "# print(x.pow(2))\n",
        "# print(torch.mul(x,x))\n",
        "\n",
        "print(x*x)"
      ]
    },
    {
      "cell_type": "code",
      "execution_count": null,
      "metadata": {
        "id": "-5-UBLd8L3cO",
        "outputId": "99bfa5f9-34be-4f6f-8054-812504d80b5e"
      },
      "outputs": [
        {
          "name": "stdout",
          "output_type": "stream",
          "text": [
            "tensor([[ 9, 16],\n",
            "        [ 4, 16],\n",
            "        [16,  1]])\n"
          ]
        }
      ],
      "source": [
        "# DON'T WRITE HERE"
      ]
    },
    {
      "cell_type": "markdown",
      "metadata": {
        "id": "OnoSkYnVL3cP"
      },
      "source": [
        "### 9. Create a tensor \"y\" with the same number of elements as x, that can be matrix-multiplied with x\n",
        "Use PyTorch directly (not NumPy) to create a tensor of random integers between 0 (inclusive) and 5 (exclusive).<br>\n",
        "Think about what shape it should have to permit matrix multiplication."
      ]
    },
    {
      "cell_type": "code",
      "source": [
        "x.shape"
      ],
      "metadata": {
        "colab": {
          "base_uri": "https://localhost:8080/"
        },
        "id": "aCLhis7qP_it",
        "outputId": "fc2561f9-822f-4fc8-f84a-eaa9e43451fe"
      },
      "execution_count": 42,
      "outputs": [
        {
          "output_type": "execute_result",
          "data": {
            "text/plain": [
              "torch.Size([3, 2])"
            ]
          },
          "metadata": {},
          "execution_count": 42
        }
      ]
    },
    {
      "cell_type": "code",
      "execution_count": 43,
      "metadata": {
        "id": "j09mJDB9L3cP",
        "colab": {
          "base_uri": "https://localhost:8080/"
        },
        "outputId": "17e5ee69-850d-4fa7-fb0e-dcff06000634"
      },
      "outputs": [
        {
          "output_type": "stream",
          "name": "stdout",
          "text": [
            "tensor([[4, 3, 1],\n",
            "        [4, 2, 4]])\n"
          ]
        }
      ],
      "source": [
        "# CODE HERE\n",
        "\n",
        "\n",
        "y = torch.randint(0,5,(2,3))\n",
        "print(y)"
      ]
    },
    {
      "cell_type": "code",
      "execution_count": null,
      "metadata": {
        "id": "Z47bBhzOL3cP",
        "outputId": "45c433e6-611d-4cb6-9dbe-c14e53275c70"
      },
      "outputs": [
        {
          "name": "stdout",
          "output_type": "stream",
          "text": [
            "tensor([[2, 2, 1],\n",
            "        [4, 1, 0]])\n"
          ]
        }
      ],
      "source": [
        "# DON'T WRITE HERE"
      ]
    },
    {
      "cell_type": "markdown",
      "metadata": {
        "id": "jaV2V1N9L3cP"
      },
      "source": [
        "### 10. Find the matrix product of x and y"
      ]
    },
    {
      "cell_type": "code",
      "source": [
        "print(x)\n",
        "print(y)"
      ],
      "metadata": {
        "colab": {
          "base_uri": "https://localhost:8080/"
        },
        "id": "hFHb-1kDQlDb",
        "outputId": "c37a211b-a60f-468a-93ca-789db9810b81"
      },
      "execution_count": 44,
      "outputs": [
        {
          "output_type": "stream",
          "name": "stdout",
          "text": [
            "tensor([[0, 1],\n",
            "        [4, 1],\n",
            "        [3, 3]])\n",
            "tensor([[4, 3, 1],\n",
            "        [4, 2, 4]])\n"
          ]
        }
      ]
    },
    {
      "cell_type": "code",
      "execution_count": 48,
      "metadata": {
        "id": "Wx_tHTe3L3cP",
        "colab": {
          "base_uri": "https://localhost:8080/"
        },
        "outputId": "7b6dab34-1655-468d-9fab-3d57ccdade00"
      },
      "outputs": [
        {
          "output_type": "execute_result",
          "data": {
            "text/plain": [
              "tensor([[ 4,  2,  4],\n",
              "        [20, 14,  8],\n",
              "        [24, 15, 15]])"
            ]
          },
          "metadata": {},
          "execution_count": 48
        }
      ],
      "source": [
        "# CODE HERE\n",
        "\n",
        "torch.matmul(x, y)\n",
        "#x.mm(y)\n"
      ]
    },
    {
      "cell_type": "code",
      "execution_count": null,
      "metadata": {
        "id": "u43EIvXdL3cP",
        "outputId": "eea3fc78-5c76-4fa9-9c2f-6dd393991368"
      },
      "outputs": [
        {
          "name": "stdout",
          "output_type": "stream",
          "text": [
            "tensor([[22, 10,  3],\n",
            "        [20,  8,  2],\n",
            "        [12,  9,  4]])\n"
          ]
        }
      ],
      "source": [
        "# DON'T WRITE HERE"
      ]
    },
    {
      "cell_type": "markdown",
      "metadata": {
        "id": "Kq3AoYYML3cQ"
      },
      "source": [
        "### References: \n",
        "\n",
        "* [NumPy Documentation](https://numpy.org/doc/stable/)\n",
        "\n",
        "* [PyTorch Documentation](https://pytorch.org/docs/stable/index.html)\n",
        "\n",
        "* [Exercise Creator](https://pieriantraining.com)"
      ]
    }
  ],
  "metadata": {
    "kernelspec": {
      "display_name": "Python 3",
      "language": "python",
      "name": "python3"
    },
    "language_info": {
      "codemirror_mode": {
        "name": "ipython",
        "version": 3
      },
      "file_extension": ".py",
      "mimetype": "text/x-python",
      "name": "python",
      "nbconvert_exporter": "python",
      "pygments_lexer": "ipython3",
      "version": "3.8.10"
    },
    "colab": {
      "name": "PyTorch-Basics-Exercises.ipynb",
      "provenance": []
    }
  },
  "nbformat": 4,
  "nbformat_minor": 0
}